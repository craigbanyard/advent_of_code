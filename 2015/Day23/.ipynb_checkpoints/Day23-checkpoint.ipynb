{
 "cells": [
  {
   "cell_type": "code",
   "execution_count": 1,
   "id": "perceived-massachusetts",
   "metadata": {},
   "outputs": [],
   "source": [
    "from helper import aoc_timer"
   ]
  },
  {
   "cell_type": "code",
   "execution_count": 2,
   "id": "experimental-potato",
   "metadata": {},
   "outputs": [],
   "source": [
    "class Program:\n",
    "\n",
    "    # Initialise computer\n",
    "    def __init__(self, program_file, a):\n",
    "        # Properties\n",
    "        self.program_file = program_file\n",
    "        self.P = self.load()\n",
    "        self.ip = 0\n",
    "        self.regs = {'a': a, 'b': 0}\n",
    "        self.len = len(self.P)\n",
    "\n",
    "    # Load the boot code\n",
    "    def load(self):\n",
    "        self.P = {}\n",
    "        with open(self.program_file) as f:\n",
    "            for i, x in enumerate(f.readlines()):\n",
    "                line = x.replace(',', '').split()\n",
    "                if len(line) == 3:\n",
    "                    op, r, off = line\n",
    "                    self.P[i] = (op, r, int(off))\n",
    "                elif line[0] == 'jmp':\n",
    "                    op, off = line\n",
    "                    self.P[i] = (op, int(off))\n",
    "                else:\n",
    "                    op, r = line\n",
    "                    self.P[i] = (op, r)\n",
    "        return self.P\n",
    "\n",
    "    # Run the program\n",
    "    def run(self):\n",
    "        while self.ip < self.len:\n",
    "            op, *rest = self.P[self.ip]\n",
    "            if op == 'hlf':\n",
    "                self.regs[rest.pop()] //= 2\n",
    "                self.ip += 1\n",
    "            elif op == 'tpl':\n",
    "                self.regs[rest.pop()] *= 3\n",
    "                self.ip += 1\n",
    "            elif op == 'inc':\n",
    "                self.regs[rest.pop()] += 1\n",
    "                self.ip += 1\n",
    "            if op == 'jmp':\n",
    "                self.ip += rest.pop()\n",
    "            elif op == 'jie':\n",
    "                r, off = rest\n",
    "                if self.regs[r] % 2 == 0:\n",
    "                    self.ip += off\n",
    "                else:\n",
    "                    self.ip += 1\n",
    "            elif op == 'jio':\n",
    "                r, off = rest\n",
    "                if self.regs[r] == 1:\n",
    "                    self.ip += off\n",
    "                else:\n",
    "                    self.ip += 1\n",
    "        return self.regs\n"
   ]
  },
  {
   "cell_type": "code",
   "execution_count": 3,
   "id": "manual-staff",
   "metadata": {},
   "outputs": [
    {
     "name": "stdout",
     "output_type": "stream",
     "text": [
      "-----\n",
      "Time: 983.6 μs\n",
      "Part 1: {'a': 1, 'b': 170}\n",
      "-----\n",
      "Time: 1.581 ms\n",
      "Part 2: {'a': 1, 'b': 247}\n"
     ]
    }
   ],
   "source": [
    "@aoc_timer\n",
    "def Day23(path, a=0):\n",
    "    P = Program(path, a)\n",
    "    return P.run()\n",
    "\n",
    "print(\"Part 1:\", Day23('input.txt'))\n",
    "print(\"Part 2:\", Day23('input.txt', a=1))"
   ]
  }
 ],
 "metadata": {
  "kernelspec": {
   "display_name": "new_kernel",
   "language": "python",
   "name": "new_kernel"
  },
  "language_info": {
   "codemirror_mode": {
    "name": "ipython",
    "version": 3
   },
   "file_extension": ".py",
   "mimetype": "text/x-python",
   "name": "python",
   "nbconvert_exporter": "python",
   "pygments_lexer": "ipython3",
   "version": "3.9.1"
  }
 },
 "nbformat": 4,
 "nbformat_minor": 5
}
