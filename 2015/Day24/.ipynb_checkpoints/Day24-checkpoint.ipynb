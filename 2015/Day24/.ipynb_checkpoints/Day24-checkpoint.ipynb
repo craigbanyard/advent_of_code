{
 "cells": [
  {
   "cell_type": "code",
   "execution_count": 1,
   "id": "incorrect-sheffield",
   "metadata": {},
   "outputs": [],
   "source": [
    "from helper import aoc_timer\n",
    "from functools import reduce\n",
    "from itertools import combinations\n",
    "from operator import mul"
   ]
  },
  {
   "cell_type": "code",
   "execution_count": 2,
   "id": "opened-engagement",
   "metadata": {},
   "outputs": [],
   "source": [
    "@aoc_timer\n",
    "def get_input(path):\n",
    "    return [int(x.strip()) for x in open(path).readlines()]"
   ]
  },
  {
   "cell_type": "code",
   "execution_count": 3,
   "id": "ambient-toolbox",
   "metadata": {},
   "outputs": [
    {
     "name": "stdout",
     "output_type": "stream",
     "text": [
      "-----\n",
      "Data: 398.0 μs\n",
      "-----\n",
      "Time: 65.2 ms\n",
      "Part 1 10439961859\n",
      "-----\n",
      "Time: 13.9 ms\n",
      "Part 2 72050269\n"
     ]
    }
   ],
   "source": [
    "@aoc_timer\n",
    "def Day24(data, num_groups):\n",
    "    target_sum = sum(data) // num_groups\n",
    "    for i in range(len(data)):\n",
    "        qes = [reduce(mul, c) for c in combinations(data, i) if sum(c) == target_sum]\n",
    "        if qes:\n",
    "            return min(qes)\n",
    "\n",
    "data = get_input('input.txt')\n",
    "print(\"Part 1\", Day24(data, 3))\n",
    "print(\"Part 2\", Day24(data, 4))"
   ]
  }
 ],
 "metadata": {
  "kernelspec": {
   "display_name": "new_kernel",
   "language": "python",
   "name": "new_kernel"
  },
  "language_info": {
   "codemirror_mode": {
    "name": "ipython",
    "version": 3
   },
   "file_extension": ".py",
   "mimetype": "text/x-python",
   "name": "python",
   "nbconvert_exporter": "python",
   "pygments_lexer": "ipython3",
   "version": "3.9.1"
  }
 },
 "nbformat": 4,
 "nbformat_minor": 5
}
