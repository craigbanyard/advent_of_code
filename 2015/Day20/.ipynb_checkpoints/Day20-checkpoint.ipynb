{
 "cells": [
  {
   "cell_type": "code",
   "execution_count": 1,
   "id": "understanding-floating",
   "metadata": {},
   "outputs": [],
   "source": [
    "from helper import aoc_timer\n",
    "import numpy as np\n",
    "import math"
   ]
  },
  {
   "cell_type": "code",
   "execution_count": 2,
   "id": "aboriginal-chambers",
   "metadata": {},
   "outputs": [],
   "source": [
    "@aoc_timer\n",
    "def get_input(path):\n",
    "    return int(open(path).read())"
   ]
  },
  {
   "cell_type": "markdown",
   "id": "victorian-fabric",
   "metadata": {},
   "source": [
    "## Semi-optimised version\n",
    "\n",
    "Use two pre-populated ```numpy``` arrays representing presents delivered to each house for parts 1 and 2.  These arrays are filled using quick ```numpy``` slicing operations.\n"
   ]
  },
  {
   "cell_type": "code",
   "execution_count": 3,
   "id": "systematic-oklahoma",
   "metadata": {},
   "outputs": [
    {
     "name": "stdout",
     "output_type": "stream",
     "text": [
      "-----\n",
      "Data: 662.2 μs\n",
      "-----\n",
      "Time: 5.215 s\n"
     ]
    },
    {
     "data": {
      "text/plain": [
       "(831600, 884520)"
      ]
     },
     "execution_count": 3,
     "metadata": {},
     "output_type": "execute_result"
    }
   ],
   "source": [
    "data = get_input('input.txt')\n",
    "\n",
    "@aoc_timer\n",
    "def Day20(N):\n",
    "    upper = 1000000  # Educated guess at upper-limit\n",
    "    np1 = np.full((upper), 10, dtype=int)  # Part 1\n",
    "    np2 = np.full((upper), 10, dtype=int)  # Part 2\n",
    "    for i in range(2, upper):    \n",
    "        np1[i::i] += 10 * i\n",
    "        np2[i:(50*i)+1:i] += 11 * i\n",
    "    return np.min(np.where(np1 > data)), np.min(np.where(np2 > data))\n",
    "\n",
    "Day20(data)"
   ]
  },
  {
   "cell_type": "markdown",
   "id": "addressed-syndication",
   "metadata": {},
   "source": [
    "## Original attempt\n",
    "\n",
    "Define a function for returning a generator of factors of a given natural number and use these, along with the observation that house ```h``` receives a numper of presents, ```p```, defined by:\n",
    "\n",
    "        p = sum(x*10 for x in factors(h))\n",
    "\n",
    "This ends up being slow because even optimised factor generators are slower than the brute-force ```numpy``` approach.\n"
   ]
  },
  {
   "cell_type": "code",
   "execution_count": 4,
   "id": "grand-music",
   "metadata": {},
   "outputs": [],
   "source": [
    "def factors_old(n):\n",
    "    i = 1\n",
    "    while (i * i < n):\n",
    "        if (n % i == 0):\n",
    "            yield i\n",
    "        i += 1\n",
    "    for i in range(int(math.sqrt(n)), 0, -1):\n",
    "        if (n % i == 0):\n",
    "            yield n // i\n",
    "\n",
    "# Taken from Stack Overflow\n",
    "# https://stackoverflow.com/questions/171765/what-is-the-best-way-to-get-all-the-divisors-of-a-number\n",
    "def factors(n):\n",
    "    # get factors and their counts\n",
    "    factors = {}\n",
    "    nn = n\n",
    "    i = 2\n",
    "    while i*i <= nn:\n",
    "        while nn % i == 0:\n",
    "            factors[i] = factors.get(i, 0) + 1\n",
    "            nn //= i\n",
    "        i += 1\n",
    "    if nn > 1:\n",
    "        factors[nn] = factors.get(nn, 0) + 1\n",
    "\n",
    "    primes = list(factors.keys())\n",
    "\n",
    "    # generates factors from primes[k:] subset\n",
    "    def generate(k):\n",
    "        if k == len(primes):\n",
    "            yield 1\n",
    "        else:\n",
    "            rest = generate(k+1)\n",
    "            prime = primes[k]\n",
    "            for factor in rest:\n",
    "                prime_to_i = 1\n",
    "                # prime_to_i iterates prime**i values, i being all possible exponents\n",
    "                for _ in range(factors[prime] + 1):\n",
    "                    yield factor * prime_to_i\n",
    "                    prime_to_i *= prime\n",
    "\n",
    "    yield from generate(0)"
   ]
  },
  {
   "cell_type": "code",
   "execution_count": 5,
   "id": "heavy-cancer",
   "metadata": {},
   "outputs": [
    {
     "name": "stdout",
     "output_type": "stream",
     "text": [
      "-----\n",
      "Data: 506.0 μs\n",
      "-----\n",
      "Time: 20.39 s\n"
     ]
    },
    {
     "data": {
      "text/plain": [
       "831600"
      ]
     },
     "execution_count": 5,
     "metadata": {},
     "output_type": "execute_result"
    }
   ],
   "source": [
    "data = get_input('input.txt')\n",
    "# data = get_input('sample.txt')\n",
    "\n",
    "@aoc_timer\n",
    "def part1(data):\n",
    "    presents, house = 0, 0\n",
    "    while presents < data:\n",
    "        house += 1\n",
    "        presents = sum(x*10 for x in factors(house))\n",
    "    return house\n",
    "\n",
    "part1(data)"
   ]
  },
  {
   "cell_type": "code",
   "execution_count": 6,
   "id": "complicated-mountain",
   "metadata": {},
   "outputs": [
    {
     "name": "stdout",
     "output_type": "stream",
     "text": [
      "-----\n",
      "Data: 1.278 ms\n",
      "-----\n",
      "Time: 20.83 s\n"
     ]
    },
    {
     "data": {
      "text/plain": [
       "884520"
      ]
     },
     "execution_count": 6,
     "metadata": {},
     "output_type": "execute_result"
    }
   ],
   "source": [
    "data = get_input('input.txt')\n",
    "# data = get_input('sample.txt')\n",
    "\n",
    "@aoc_timer\n",
    "def part2(data, mult=11, lim=50):\n",
    "    presents, house = 0, 0\n",
    "    while presents < data:\n",
    "        house += 1\n",
    "        presents = sum(x*mult for i, x in enumerate(factors(house)) if house < x*lim)\n",
    "    return house\n",
    "\n",
    "part2(data)"
   ]
  }
 ],
 "metadata": {
  "kernelspec": {
   "display_name": "new_kernel",
   "language": "python",
   "name": "new_kernel"
  },
  "language_info": {
   "codemirror_mode": {
    "name": "ipython",
    "version": 3
   },
   "file_extension": ".py",
   "mimetype": "text/x-python",
   "name": "python",
   "nbconvert_exporter": "python",
   "pygments_lexer": "ipython3",
   "version": "3.9.1"
  }
 },
 "nbformat": 4,
 "nbformat_minor": 5
}
