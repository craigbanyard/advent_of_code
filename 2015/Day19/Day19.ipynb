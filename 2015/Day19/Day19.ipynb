{
 "cells": [
  {
   "cell_type": "code",
   "execution_count": null,
   "id": "qualified-internet",
   "metadata": {},
   "outputs": [],
   "source": [
    "from collections import deque, defaultdict, OrderedDict\n",
    "import re\n",
    "import random\n",
    "from helper import aoc_timer"
   ]
  },
  {
   "cell_type": "code",
   "execution_count": null,
   "id": "rapid-trial",
   "metadata": {},
   "outputs": [],
   "source": [
    "@aoc_timer\n",
    "def get_input(path):\n",
    "    return [x.strip() for x in open(path).readlines() if x != '\\n']\n",
    "\n",
    "def get_reactions(data, reverse=False):\n",
    "    if not reverse:\n",
    "        # Parse reactions into dictionary {IN: [*OUT]}\n",
    "        R = defaultdict(list)\n",
    "        for react in data:\n",
    "            IN, OUT = react.split(' => ')\n",
    "            R[IN].append(OUT)\n",
    "    else:\n",
    "        # Reactions in reverse\n",
    "        R = {}\n",
    "        for react in data:\n",
    "            OUT, IN = react.split(' => ')\n",
    "            R[IN] = OUT\n",
    "        # Sort by length of RHS molecule\n",
    "        R = OrderedDict(sorted(R.items(), key=lambda x: len(x[0]), reverse=True))\n",
    "    return R\n",
    "\n",
    "def shuffle_dict(d):\n",
    "    items = list(d.items())\n",
    "    random.shuffle(items)\n",
    "    return OrderedDict(items)\n",
    "\n",
    "def repl_all(s, mol, repl):\n",
    "    \"\"\"Replace each occurrence of mol in s with repl.\n",
    "       Return set of all possible single replacements.\n",
    "    \"\"\"\n",
    "    inds = [m.start() for m in re.finditer(f'(?={mol})', s)]\n",
    "    if not inds:\n",
    "        return {}\n",
    "    out = set()\n",
    "    chars = len(mol)\n",
    "    for idx in inds:\n",
    "        pre, post = s[:idx], s[idx+chars:]\n",
    "        out.add(pre + repl + post)\n",
    "    return out\n",
    "\n",
    "def repl_greedy(s, mol, repl):\n",
    "    \"\"\"Replace all occurrences of mol in s with repl.\n",
    "       Return reduced string and count of replacements.\n",
    "    \"\"\"\n",
    "    cnt = 0\n",
    "    while mol in s:\n",
    "        s = s.replace(mol, repl, 1)\n",
    "        cnt += 1\n",
    "    return s, cnt"
   ]
  },
  {
   "cell_type": "code",
   "execution_count": null,
   "id": "major-approval",
   "metadata": {},
   "outputs": [],
   "source": [
    "@aoc_timer\n",
    "def part1(data):\n",
    "    # Remove medicine from input data into new variable\n",
    "    medicine = data.pop()\n",
    "\n",
    "    # Process medicine replacements\n",
    "    R = get_reactions(data)\n",
    "    M = set()\n",
    "    for k, v in R.items():\n",
    "        for mol in v:\n",
    "            M = M.union(repl_all(medicine, k, mol))\n",
    "\n",
    "    return len(M)\n",
    "\n",
    "data = get_input('input.txt')\n",
    "part1(data)"
   ]
  },
  {
   "cell_type": "markdown",
   "id": "authentic-outside",
   "metadata": {},
   "source": [
    "### Greedy BFS - perform string replacements greedily\n",
    "\n",
    "A solution is not guaranteed to be found in this way with a given starting replacement ordering.  Therefore, if a solution is not found, we shuffle the replacement dictionary and try again.  Because of the mathematical properties of the input, this finds a solution quickly.  Topaz, you sly bastard.\n"
   ]
  },
  {
   "cell_type": "code",
   "execution_count": null,
   "id": "prime-string",
   "metadata": {
    "scrolled": false
   },
   "outputs": [],
   "source": [
    "@aoc_timer\n",
    "def part2(data, output=False):\n",
    "    # Remove medicine from input data into new variable\n",
    "    medicine = data.pop()\n",
    "\n",
    "    # Reactions in reverse\n",
    "    R = get_reactions(data, True)\n",
    "\n",
    "    while True:\n",
    "        start, end = 'e', medicine\n",
    "        bfs = deque([(end, 0, end)])\n",
    "        visited = {medicine: 0}\n",
    "        while bfs:\n",
    "            mol, steps, route = bfs.popleft()\n",
    "            for k, v in R.items():\n",
    "                if k not in mol:\n",
    "                    continue\n",
    "                mol, _steps = repl_greedy(mol, k, v)\n",
    "                steps += _steps\n",
    "                if mol in visited and visited[mol] <= steps:\n",
    "                    continue\n",
    "                visited[mol] = steps\n",
    "                bfs.append((mol, steps, route + ' =>\\n' + mol))\n",
    "                break  # Always retry from beginning after making successful reductions\n",
    "        if start in visited:\n",
    "            break  # Found solution\n",
    "        if output:\n",
    "            print(f'NOT FOUND!\\nsteps: {steps}, residual: {mol}\\nRetrying with shuffled reactions...\\n')\n",
    "        R = shuffle_dict(R)\n",
    "    if output:\n",
    "        print(f'route: {route}, steps: {visited[start]}')\n",
    "    return visited[start]\n",
    "\n",
    "data = get_input('input.txt')\n",
    "part2(data, False)"
   ]
  },
  {
   "cell_type": "markdown",
   "id": "forbidden-particle",
   "metadata": {},
   "source": [
    "### Full BFS - replacements one at a time\n",
    "\n",
    "Poor time complexity: https://www.wolframalpha.com/input/?i=3%2C4%2C7%2C10%2C17%2C24%2C41\n"
   ]
  },
  {
   "cell_type": "code",
   "execution_count": null,
   "id": "baking-burns",
   "metadata": {
    "scrolled": false
   },
   "outputs": [],
   "source": [
    "# See above link, too slow for actual input\n",
    "data = get_input('sample.txt')\n",
    "medicine = data.pop()\n",
    "medicine = 'HOHOHO'\n",
    "\n",
    "# Reactions in reverse\n",
    "R = get_reactions(data, True)\n",
    "\n",
    "# BFS\n",
    "start, end = 'e', medicine\n",
    "bfs = deque([(end, 0, end)])\n",
    "visited = {medicine: 0}\n",
    "cnt = 0\n",
    "while bfs:\n",
    "    # Progress indicator\n",
    "    cnt += 1\n",
    "    if cnt % 10000 == 0: print ('.', end='', flush=True)\n",
    "    # BFS\n",
    "    mol, steps, route = bfs.popleft()\n",
    "    for k, v in R.items():\n",
    "        if v == start and mol != k:\n",
    "            continue\n",
    "        for m in repl_all(mol, k, v):\n",
    "            if m in visited and visited[m] <= steps + 1:\n",
    "                continue\n",
    "            visited[m] = steps + 1\n",
    "            bfs.append((m, steps + 1, route + ' => ' + m))\n",
    "\n",
    "if cnt > 10000:\n",
    "    print('\\n')\n",
    "print(f'route: {route}, steps: {visited[start]}, iters: {cnt}')"
   ]
  }
 ],
 "metadata": {
  "kernelspec": {
   "display_name": "Python 3",
   "language": "python",
   "name": "python3"
  },
  "language_info": {
   "codemirror_mode": {
    "name": "ipython",
    "version": 3
   },
   "file_extension": ".py",
   "mimetype": "text/x-python",
   "name": "python",
   "nbconvert_exporter": "python",
   "pygments_lexer": "ipython3",
   "version": "3.9.1"
  }
 },
 "nbformat": 4,
 "nbformat_minor": 5
}
